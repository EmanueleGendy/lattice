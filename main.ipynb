{
 "cells": [
  {
   "cell_type": "code",
   "execution_count": 1,
   "metadata": {
    "id": "vl7WPoMwLQtD"
   },
   "outputs": [],
   "source": [
    "import numpy as np\n",
    "import copy\n",
    "from tqdm import tqdm\n",
    "from scipy.optimize import curve_fit\n",
    "from uncertainties import ufloat\n",
    "import h5py\n",
    "import os\n",
    "\n",
    "%matplotlib inline\n",
    "import matplotlib.pyplot as plt\n",
    "import seaborn as sns\n",
    "sns.set_style('whitegrid')"
   ]
  },
  {
   "cell_type": "markdown",
   "metadata": {
    "id": "TvCQLRcjKuY9",
    "tags": []
   },
   "source": [
    "\n",
    "# Lattice class"
   ]
  },
  {
   "cell_type": "code",
   "execution_count": 2,
   "metadata": {
    "id": "CUuZddoUKkTY",
    "jupyter": {
     "source_hidden": true
    },
    "tags": []
   },
   "outputs": [],
   "source": [
    "class Lattice:\n",
    "    def __init__(self, N, d, k, l):\n",
    "        self.N = N\n",
    "        self.d = d\n",
    "        self.shape = [N for _ in range(d)]\n",
    "        self.k = k\n",
    "        self.l = l\n",
    "\n",
    "        self.phi = np.random.randn(*self.shape)\n",
    "        self.action = self.get_action()\n",
    "\n",
    "    def get_action(self):\n",
    "        action = (1 - 2 * self.l) * self.phi**2 + self.l * self.phi**4\n",
    "\n",
    "        for mu in range(self.d):\n",
    "            action += -2. * self.k * self.phi * np.roll(self.phi, 1, mu)\n",
    "\n",
    "        return action.sum()\n",
    "\n",
    "    def get_local_action(self, xyz):\n",
    "        action = (1 - 2 * self.l) * self.phi[xyz]**2 + self.l * self.phi[xyz]**4\n",
    "\n",
    "        for mu in range(self.d):\n",
    "            hop = np.zeros((self.d, 1), dtype=int)\n",
    "            hop[mu,0] = 1\n",
    "            xyz_plus = tuple(map(tuple, ((np.array(xyz) + hop) % self.N)))\n",
    "            xyz_minus = tuple(map(tuple, ((np.array(xyz) - hop) % self.N)))\n",
    "            action += -2. * self.k * self.phi[xyz] * (self.phi[xyz_plus] + self.phi[xyz_minus])\n",
    "\n",
    "        return action\n",
    "\n",
    "    def get_drift(self):\n",
    "        drift = 2 * self.phi * (2 * self.l * (1 - self.phi**2) - 1)\n",
    "\n",
    "        for mu in range(self.d):\n",
    "            drift += 2. * self.k * (np.roll(self.phi, 1, mu) + np.roll(self.phi, -1, mu))\n",
    "\n",
    "        return drift\n",
    "\n",
    "    def get_hamiltonian(self, chi, action):\n",
    "        return 0.5 * np.sum(chi**2) + action\n",
    "\n",
    "    def metropolis(self, sigma=1.):\n",
    "        xyz = tuple(map(tuple, np.random.randint(0, self.N, (self.d,1))))\n",
    "        phi_0 = self.phi[xyz]\n",
    "        S_0 = self.get_local_action(xyz)\n",
    "\n",
    "        self.phi[xyz] += sigma * np.random.randn()\n",
    "\n",
    "        dS = self.get_local_action(xyz) - S_0\n",
    "\n",
    "        if dS > 0:\n",
    "            if np.random.rand() >= np.exp(-dS):\n",
    "                self.phi[xyz] = phi_0\n",
    "\n",
    "                return False\n",
    "        return True\n",
    "\n",
    "    def langevin(self, dt=0.01):\n",
    "        chi = np.random.randn(*self.shape)\n",
    "\n",
    "        self.phi += (dt * self.get_drift() +\n",
    "                     np.sqrt(dt) * chi)\n",
    "\n",
    "        return True\n",
    "\n",
    "    def hmc(self, n_steps=100):\n",
    "        dt = 1 / n_steps\n",
    "        phi_0 = copy.deepcopy(self.phi)\n",
    "        chi = np.random.randn(*self.shape)\n",
    "\n",
    "        S_0 = self.action\n",
    "        H_0 = self.get_hamiltonian(chi, S_0)\n",
    "\n",
    "        chi += 0.5 * dt * self.get_drift()\n",
    "\n",
    "        for i in range(n_steps):\n",
    "            self.phi += dt * chi\n",
    "\n",
    "            if i == n_steps-1:\n",
    "                chi += 0.5 * dt * self.get_drift()\n",
    "            else:\n",
    "                chi += dt * self.get_drift()\n",
    "\n",
    "        self.action = self.get_action()\n",
    "        dH = self.get_hamiltonian(chi, self.action) - H_0\n",
    "\n",
    "        if dH > 0:\n",
    "            if np.random.rand() >= np.exp(-dH):\n",
    "                self.phi = phi_0\n",
    "                self.action = S_0\n",
    "\n",
    "                return False\n",
    "        return True"
   ]
  },
  {
   "cell_type": "markdown",
   "metadata": {
    "id": "EVKy8eBCKsw1"
   },
   "source": [
    "# Functions from previous notebook (get jackknife mean, get different observables)"
   ]
  },
  {
   "cell_type": "code",
   "execution_count": 3,
   "metadata": {
    "id": "VX2-3SR3LCGr",
    "jupyter": {
     "source_hidden": true
    },
    "tags": []
   },
   "outputs": [],
   "source": [
    "def jackknife(samples: np.ndarray):\n",
    "    \"\"\"Return mean and estimated lower error bound.\"\"\"\n",
    "    means = []\n",
    "\n",
    "    for i in range(samples.shape[0]):\n",
    "        means.append(np.delete(samples, i, axis=0).mean(axis=0))\n",
    "\n",
    "    means = np.asarray(means)\n",
    "    mean = means.mean(axis=0)\n",
    "    error = np.sqrt((samples.shape[0] - 1) * np.mean(np.square(means - mean), axis=0))\n",
    "\n",
    "    return mean, error\n",
    "\n",
    "def jackknifewithprogress(samples: np.ndarray):\n",
    "    \"\"\"Return mean and estimated lower error bound.\"\"\"\n",
    "    means = []\n",
    "    for i in tqdm(range(samples.shape[0])):\n",
    "        means.append(np.delete(samples, i, axis=0).mean(axis=0))\n",
    "\n",
    "    means = np.asarray(means)\n",
    "    mean = means.mean(axis=0)\n",
    "    error = np.sqrt((samples.shape[0] - 1) * np.mean(np.square(means - mean), axis=0))\n",
    "\n",
    "    return mean, error\n",
    "\n",
    "\n",
    "def get_mag(cfgs: np.ndarray):\n",
    "    \"\"\"Return mean and error of magnetization.\"\"\"\n",
    "    axis = tuple([i+1 for i in range(len(cfgs.shape)-1)])\n",
    "    return jackknife(cfgs.mean(axis=axis))\n",
    "\n",
    "def get_abs_mag(cfgs: np.ndarray):\n",
    "    \"\"\"Return mean and error of absolute magnetization.\"\"\"\n",
    "    axis = tuple([i+1 for i in range(len(cfgs.shape)-1)])\n",
    "    return jackknife(np.abs(cfgs.mean(axis=axis)))\n",
    "\n",
    "def get_chi2(cfgs: np.ndarray):\n",
    "    \"\"\"Return mean and error of suceptibility.\"\"\"\n",
    "    V = np.prod(cfgs.shape[1:])\n",
    "    axis = tuple([i+1 for i in range(len(cfgs.shape)-1)])\n",
    "    mags = cfgs.mean(axis=axis)\n",
    "    return jackknife(V * (mags**2 - mags.mean()**2))\n",
    "\n",
    "def get_corr_func(cfgs: np.ndarray):\n",
    "    \"\"\"Return connected two-point correlation function with errors for symmetric lattices.\"\"\"\n",
    "    mag_sq = np.mean(cfgs)**2\n",
    "    corr_func = []\n",
    "    axis = tuple([i+1 for i in range(len(cfgs.shape)-1)])\n",
    "\n",
    "    for i in range(1, cfgs.shape[1], 1):\n",
    "        corrs = []\n",
    "\n",
    "        for mu in range(len(cfgs.shape)-1):\n",
    "            corrs.append(np.mean(cfgs * np.roll(cfgs, i, mu+1), axis=axis))\n",
    "\n",
    "        corrs = np.array(corrs).mean(axis=0)\n",
    "        corr_mean, corr_err = jackknife(corrs - mag_sq)\n",
    "        corr_func.append([i, corr_mean, corr_err])\n",
    "\n",
    "    return np.array(corr_func)"
   ]
  },
  {
   "cell_type": "markdown",
   "metadata": {
    "id": "u9fhWl-VP-Qc",
    "tags": []
   },
   "source": [
    "# Functions to handle multiple values of k"
   ]
  },
  {
   "cell_type": "code",
   "execution_count": 4,
   "metadata": {
    "id": "WF8Ameo3QFRa",
    "jupyter": {
     "source_hidden": true
    },
    "tags": []
   },
   "outputs": [],
   "source": [
    "#saves configuration \"tensor\" associated to the value \"k\" in the file \"file_path\" (uses h5py)\n",
    "def save_to_hdf5(file_path, k, tensor):\n",
    "    with h5py.File(file_path, 'a') as f:\n",
    "        # Create a group named after the value of k\n",
    "        group = f.create_group(str(k))\n",
    "        # Save the tensor inside the group\n",
    "        group.create_dataset('tensor', data=tensor)\n",
    "\n",
    "#loads the configuration associated to the value \"k\" from the file \"file_path\" (uses h5py)  \n",
    "def load_tensor_for_k(file_path, k):\n",
    "    with h5py.File(file_path, 'r') as f:\n",
    "        # Check if a group with the given value of k exists in the file\n",
    "        if str(k) in f:\n",
    "            group = f[str(k)]\n",
    "            # Check if the group contains a dataset named 'tensor'\n",
    "            if 'tensor' in group:\n",
    "                # Load the tensor data\n",
    "                tensor = group['tensor'][:]\n",
    "                return tensor\n",
    "            else:\n",
    "                print(f\"No tensor found for k = {k}.\")\n",
    "                return None\n",
    "        else:\n",
    "            print(f\"No data found for k = {k}.\")\n",
    "            return None\n",
    "\n",
    "#loads values of \"k\" present in the file \"file_path\" (uses h5py)  \n",
    "def load_k_values(file_path):\n",
    "    k_values = []\n",
    "    with h5py.File(file_path, 'r') as f:\n",
    "        # Iterate over the keys (group names) in the HDF5 file\n",
    "        for key in f.keys():\n",
    "            # Convert the group name (key) to float and append it to the list\n",
    "            k_values.append(float(key))\n",
    "    return k_values\n",
    "\n",
    "#removes the file \"file_path\" if present (uses h5py)  \n",
    "def remove_file(file_path):\n",
    "    try:\n",
    "        os.remove(file_path)\n",
    "        print(f\"File '{file_path}' has been successfully removed.\")\n",
    "    except OSError as e:\n",
    "        print(f\"Error: {e.strerror}\")\n",
    "        \n",
    "#merges different files containing configurations into the the file \"file_path\" (uses h5py)  \n",
    "def merge_hdf5_files(output_file_path, input_file_paths):\n",
    "    with h5py.File(output_file_path, 'w') as outfile:\n",
    "        for input_file_path in input_file_paths:\n",
    "            with h5py.File(input_file_path, 'r') as infile:\n",
    "                # Iterate over groups in the input file\n",
    "                for group_name, group in infile.items():\n",
    "                    # Create corresponding groups in the output file\n",
    "                    if group_name not in outfile:\n",
    "                        outfile.create_group(group_name)\n",
    "                    # Copy datasets from input file to output file\n",
    "                    for dataset_name, dataset in group.items():\n",
    "                        if dataset_name not in outfile[group_name]:\n",
    "                            outfile[group_name].create_dataset(dataset_name, data=dataset)\n",
    "                            \n",
    "#removes the configuration associated to \"k\" from thefile \"file_path\", if present (uses h5py)  \n",
    "def remove_configuration_for_k(file_path, k):\n",
    "    with h5py.File(file_path, 'a') as f:\n",
    "        # Check if a group with the given value of k exists in the file\n",
    "        if str(k) in f:\n",
    "            del f[str(k)]\n",
    "            print(f\"configuration associated with k = {k} has been removed\\n\")\n",
    "        else:\n",
    "            print(f\"no configuration found for k = {k}\\n\")"
   ]
  },
  {
   "cell_type": "markdown",
   "metadata": {
    "id": "WF8Ameo3QFRa",
    "tags": []
   },
   "source": [
    "# Functions to manipulate the samples"
   ]
  },
  {
   "cell_type": "code",
   "execution_count": 5,
   "metadata": {},
   "outputs": [],
   "source": [
    "def weighted_avg_and_std(values, weights):\n",
    "    # Calculate the weighted average\n",
    "    average = np.average(values, weights=weights)\n",
    "    \n",
    "    # Calculate the weighted variance\n",
    "    variance = np.average((values - average) ** 2, weights=weights)\n",
    "    \n",
    "    # Return the weighted average and the square root of the weighted variance as the standard deviation\n",
    "    return [average, np.sqrt(variance)]\n",
    "\n",
    "\n",
    "# This function calculates the standard deviation of magnetizations\n",
    "# obtained from dividing a given array of configurations into\n",
    "# a specified number of slices and computing the magnetization\n",
    "# for each slice.\n",
    "def get_std_of_mags(cfgs: np.ndarray, slicenum):  \n",
    "    # Calculate the length of each slice\n",
    "    slicelen = int(np.shape(cfgs)[0] / slicenum)\n",
    "    \n",
    "    # Slice the input array into 'slicenum' slices and calculate the magnetization for each slice\n",
    "    mags = np.transpose(np.array([get_mag(cfgs[slice(slicelen*i, slicelen*(1+i))]) for i in range(slicenum)]))\n",
    "    \n",
    "    # Calculate the mean and standard deviation of the magnetizations\n",
    "    mean, std = weighted_avg_and_std(mags[0], mags[1])\n",
    "    \n",
    "    # Uncomment the following lines if you want to visualize the data\n",
    "    # plt.errorbar(range(slicenum), mags[0], yerr=mags[1])\n",
    "    # plt.fill_between(range(slicenum), (mean + std) * np.ones(slicenum), (mean - std) * np.ones(slicenum))\n",
    "    \n",
    "    return std"
   ]
  },
  {
   "cell_type": "markdown",
   "metadata": {
    "id": "50t5qI5xTGBO"
   },
   "source": [
    "# Main function to generate samples"
   ]
  },
  {
   "cell_type": "code",
   "execution_count": 6,
   "metadata": {
    "colab": {
     "base_uri": "https://localhost:8080/"
    },
    "id": "NFLg_0csQJpE",
    "outputId": "65742525-8047-4b26-eaf2-83b5e5776490"
   },
   "outputs": [],
   "source": [
    "# This function samples configurations from a lattice system\n",
    "# with a given value of 'k', performing a burn-in phase\n",
    "# to ensure the validity of the sample. The configurations\n",
    "# are then saved to a file associated with the value of 'k'.\n",
    "def sample_from_k(k, burninnum, thresholdstd, testburn=True):\n",
    "    # Constants defining the lattice system\n",
    "    N = 32\n",
    "    d = 2\n",
    "    l = 0.02\n",
    "    \n",
    "    # Round the value of 'k' to 3 decimal places\n",
    "    k = np.round(k, 3)\n",
    "    \n",
    "    # Path to the HDF5 file for saving configurations\n",
    "    file_path = os.getcwd() + '/tensors.h5'\n",
    "    \n",
    "    # Remove existing configurations associated with the given value of 'k' from the file\n",
    "    remove_configuration_for_k(file_path, k)\n",
    "    \n",
    "    # Initialize the lattice system\n",
    "    lattice = Lattice(N, d, k, l)\n",
    "\n",
    "    print(\"burn in...\\n\")\n",
    "    \n",
    "    # Perform the burn-in phase to ensure the validity of the sample\n",
    "    if testburn:\n",
    "        current_iteration = 0\n",
    "        max_iterations = 10\n",
    "        std = thresholdstd\n",
    "        while std >= thresholdstd and current_iteration < max_iterations:\n",
    "            print(\"checking the validity of the sample...\\n\")\n",
    "            testcfgs = []\n",
    "            for i in tqdm(range(burninnum)):\n",
    "                lattice.langevin()\n",
    "                # lattice.hmc()\n",
    "                # lattice.metropolis()\n",
    "                testcfgs.append(copy.deepcopy(lattice.phi))\n",
    "            testcfgs = np.array(testcfgs)\n",
    "            std = get_std_of_mags(testcfgs, 50)\n",
    "            current_iteration += 1\n",
    "            print(\"\\n std=%s\" % std, \"\\n\")\n",
    "\n",
    "        print(\"repeated the burn in phase for %s times \\n\" % current_iteration)\n",
    "        \n",
    "    else:\n",
    "        # Alternative burn-in phase without validity check\n",
    "        for i in tqdm(range(burninnum)):\n",
    "            lattice.langevin()\n",
    "            # lattice.hmc()\n",
    "            # lattice.metropolis()\n",
    "    \n",
    "    # Sampling phase\n",
    "    print(f\"starting k=%s\" % k)\n",
    "    print(\"\\nrecording...\\n\")\n",
    "    cfgs = []\n",
    "    n_accepted = 0\n",
    "    n_steps = 100000\n",
    "    mags = []\n",
    "    for i in tqdm(range(n_steps)):\n",
    "        n_accepted += lattice.langevin()\n",
    "        # n_accepted += lattice.hmc()\n",
    "        # n_accepted += lattice.metropolis()\n",
    "\n",
    "        if i % 10 == 0:\n",
    "            cfgs.append(copy.deepcopy(lattice.phi))\n",
    "\n",
    "    cfgs = np.array(cfgs)\n",
    "\n",
    "    # Save the configurations tensor to a file, associated with the value of 'k'\n",
    "    save_to_hdf5(file_path, k, cfgs)\n",
    "    print(f\"\\n I saved k=%s\" % k)\n",
    "    \n",
    "    return cfgs"
   ]
  },
  {
   "cell_type": "markdown",
   "metadata": {
    "id": "50t5qI5xTGBO"
   },
   "source": [
    "# Create the samples and save them"
   ]
  },
  {
   "cell_type": "code",
   "execution_count": 7,
   "metadata": {},
   "outputs": [
    {
     "name": "stdout",
     "output_type": "stream",
     "text": [
      "no configuration found for k = 0.2\n",
      "\n",
      "burn in...\n",
      "\n",
      "checking the validity of the sample...\n",
      "\n"
     ]
    },
    {
     "name": "stderr",
     "output_type": "stream",
     "text": [
      "100%|██████████| 40000/40000 [00:04<00:00, 8678.45it/s]\n"
     ]
    },
    {
     "name": "stdout",
     "output_type": "stream",
     "text": [
      "\n",
      " std=0.024557554453309503 \n",
      "\n",
      "repeated the burn in phase for 1 times \n",
      "\n",
      "starting k=0.2\n",
      "\n",
      "recording...\n",
      "\n"
     ]
    },
    {
     "name": "stderr",
     "output_type": "stream",
     "text": [
      "100%|██████████| 100000/100000 [00:10<00:00, 9342.67it/s]\n"
     ]
    },
    {
     "name": "stdout",
     "output_type": "stream",
     "text": [
      "\n",
      " I saved k=0.2\n",
      "no configuration found for k = 0.205\n",
      "\n",
      "burn in...\n",
      "\n",
      "checking the validity of the sample...\n",
      "\n"
     ]
    },
    {
     "name": "stderr",
     "output_type": "stream",
     "text": [
      "100%|██████████| 40000/40000 [00:04<00:00, 8797.49it/s]\n"
     ]
    },
    {
     "name": "stdout",
     "output_type": "stream",
     "text": [
      "\n",
      " std=0.027722179160392952 \n",
      "\n",
      "repeated the burn in phase for 1 times \n",
      "\n",
      "starting k=0.205\n",
      "\n",
      "recording...\n",
      "\n"
     ]
    },
    {
     "name": "stderr",
     "output_type": "stream",
     "text": [
      "100%|██████████| 100000/100000 [00:10<00:00, 9334.43it/s]\n"
     ]
    },
    {
     "name": "stdout",
     "output_type": "stream",
     "text": [
      "\n",
      " I saved k=0.205\n",
      "no configuration found for k = 0.21\n",
      "\n",
      "burn in...\n",
      "\n",
      "checking the validity of the sample...\n",
      "\n"
     ]
    },
    {
     "name": "stderr",
     "output_type": "stream",
     "text": [
      "100%|██████████| 40000/40000 [00:04<00:00, 8814.32it/s]\n"
     ]
    },
    {
     "name": "stdout",
     "output_type": "stream",
     "text": [
      "\n",
      " std=0.022617411565479056 \n",
      "\n",
      "repeated the burn in phase for 1 times \n",
      "\n",
      "starting k=0.21\n",
      "\n",
      "recording...\n",
      "\n"
     ]
    },
    {
     "name": "stderr",
     "output_type": "stream",
     "text": [
      "100%|██████████| 100000/100000 [00:10<00:00, 9321.50it/s]\n"
     ]
    },
    {
     "name": "stdout",
     "output_type": "stream",
     "text": [
      "\n",
      " I saved k=0.21\n",
      "no configuration found for k = 0.215\n",
      "\n",
      "burn in...\n",
      "\n",
      "checking the validity of the sample...\n",
      "\n"
     ]
    },
    {
     "name": "stderr",
     "output_type": "stream",
     "text": [
      "100%|██████████| 40000/40000 [00:04<00:00, 8993.80it/s]\n"
     ]
    },
    {
     "name": "stdout",
     "output_type": "stream",
     "text": [
      "\n",
      " std=0.03027052726577269 \n",
      "\n",
      "repeated the burn in phase for 1 times \n",
      "\n",
      "starting k=0.215\n",
      "\n",
      "recording...\n",
      "\n"
     ]
    },
    {
     "name": "stderr",
     "output_type": "stream",
     "text": [
      "100%|██████████| 100000/100000 [00:10<00:00, 9350.46it/s]\n"
     ]
    },
    {
     "name": "stdout",
     "output_type": "stream",
     "text": [
      "\n",
      " I saved k=0.215\n",
      "no configuration found for k = 0.22\n",
      "\n",
      "burn in...\n",
      "\n",
      "checking the validity of the sample...\n",
      "\n"
     ]
    },
    {
     "name": "stderr",
     "output_type": "stream",
     "text": [
      "100%|██████████| 40000/40000 [00:04<00:00, 8960.86it/s]\n"
     ]
    },
    {
     "name": "stdout",
     "output_type": "stream",
     "text": [
      "\n",
      " std=0.036990838624213956 \n",
      "\n",
      "repeated the burn in phase for 1 times \n",
      "\n",
      "starting k=0.22\n",
      "\n",
      "recording...\n",
      "\n"
     ]
    },
    {
     "name": "stderr",
     "output_type": "stream",
     "text": [
      "100%|██████████| 100000/100000 [00:10<00:00, 9337.96it/s]\n"
     ]
    },
    {
     "name": "stdout",
     "output_type": "stream",
     "text": [
      "\n",
      " I saved k=0.22\n",
      "no configuration found for k = 0.225\n",
      "\n",
      "burn in...\n",
      "\n",
      "checking the validity of the sample...\n",
      "\n"
     ]
    },
    {
     "name": "stderr",
     "output_type": "stream",
     "text": [
      "100%|██████████| 40000/40000 [00:04<00:00, 8892.69it/s]\n"
     ]
    },
    {
     "name": "stdout",
     "output_type": "stream",
     "text": [
      "\n",
      " std=0.0426558453095668 \n",
      "\n",
      "repeated the burn in phase for 1 times \n",
      "\n",
      "starting k=0.225\n",
      "\n",
      "recording...\n",
      "\n"
     ]
    },
    {
     "name": "stderr",
     "output_type": "stream",
     "text": [
      "100%|██████████| 100000/100000 [00:10<00:00, 9352.72it/s]\n"
     ]
    },
    {
     "name": "stdout",
     "output_type": "stream",
     "text": [
      "\n",
      " I saved k=0.225\n",
      "no configuration found for k = 0.23\n",
      "\n",
      "burn in...\n",
      "\n",
      "checking the validity of the sample...\n",
      "\n"
     ]
    },
    {
     "name": "stderr",
     "output_type": "stream",
     "text": [
      "100%|██████████| 40000/40000 [00:04<00:00, 8856.03it/s]\n"
     ]
    },
    {
     "name": "stdout",
     "output_type": "stream",
     "text": [
      "\n",
      " std=0.04222236537672963 \n",
      "\n",
      "repeated the burn in phase for 1 times \n",
      "\n",
      "starting k=0.23\n",
      "\n",
      "recording...\n",
      "\n"
     ]
    },
    {
     "name": "stderr",
     "output_type": "stream",
     "text": [
      "100%|██████████| 100000/100000 [00:10<00:00, 9309.37it/s]\n"
     ]
    },
    {
     "name": "stdout",
     "output_type": "stream",
     "text": [
      "\n",
      " I saved k=0.23\n",
      "no configuration found for k = 0.235\n",
      "\n",
      "burn in...\n",
      "\n",
      "checking the validity of the sample...\n",
      "\n"
     ]
    },
    {
     "name": "stderr",
     "output_type": "stream",
     "text": [
      "100%|██████████| 40000/40000 [00:04<00:00, 8926.13it/s]\n"
     ]
    },
    {
     "name": "stdout",
     "output_type": "stream",
     "text": [
      "\n",
      " std=0.0472225165929515 \n",
      "\n",
      "repeated the burn in phase for 1 times \n",
      "\n",
      "starting k=0.235\n",
      "\n",
      "recording...\n",
      "\n"
     ]
    },
    {
     "name": "stderr",
     "output_type": "stream",
     "text": [
      "100%|██████████| 100000/100000 [00:10<00:00, 9366.02it/s]\n"
     ]
    },
    {
     "name": "stdout",
     "output_type": "stream",
     "text": [
      "\n",
      " I saved k=0.235\n",
      "no configuration found for k = 0.24\n",
      "\n",
      "burn in...\n",
      "\n",
      "checking the validity of the sample...\n",
      "\n"
     ]
    },
    {
     "name": "stderr",
     "output_type": "stream",
     "text": [
      "100%|██████████| 40000/40000 [00:04<00:00, 8958.37it/s]\n"
     ]
    },
    {
     "name": "stdout",
     "output_type": "stream",
     "text": [
      "\n",
      " std=0.07323498482067681 \n",
      "\n",
      "repeated the burn in phase for 1 times \n",
      "\n",
      "starting k=0.24\n",
      "\n",
      "recording...\n",
      "\n"
     ]
    },
    {
     "name": "stderr",
     "output_type": "stream",
     "text": [
      "100%|██████████| 100000/100000 [00:10<00:00, 9395.10it/s]\n"
     ]
    },
    {
     "name": "stdout",
     "output_type": "stream",
     "text": [
      "\n",
      " I saved k=0.24\n",
      "no configuration found for k = 0.245\n",
      "\n",
      "burn in...\n",
      "\n",
      "checking the validity of the sample...\n",
      "\n"
     ]
    },
    {
     "name": "stderr",
     "output_type": "stream",
     "text": [
      "100%|██████████| 40000/40000 [00:04<00:00, 8922.45it/s]\n"
     ]
    },
    {
     "name": "stdout",
     "output_type": "stream",
     "text": [
      "\n",
      " std=0.08048804986683886 \n",
      "\n",
      "checking the validity of the sample...\n",
      "\n"
     ]
    },
    {
     "name": "stderr",
     "output_type": "stream",
     "text": [
      "100%|██████████| 40000/40000 [00:04<00:00, 8860.37it/s]\n"
     ]
    },
    {
     "name": "stdout",
     "output_type": "stream",
     "text": [
      "\n",
      " std=0.0645411990541245 \n",
      "\n",
      "repeated the burn in phase for 2 times \n",
      "\n",
      "starting k=0.245\n",
      "\n",
      "recording...\n",
      "\n"
     ]
    },
    {
     "name": "stderr",
     "output_type": "stream",
     "text": [
      "100%|██████████| 100000/100000 [00:10<00:00, 9480.69it/s]\n"
     ]
    },
    {
     "name": "stdout",
     "output_type": "stream",
     "text": [
      "\n",
      " I saved k=0.245\n",
      "no configuration found for k = 0.25\n",
      "\n",
      "burn in...\n",
      "\n",
      "checking the validity of the sample...\n",
      "\n"
     ]
    },
    {
     "name": "stderr",
     "output_type": "stream",
     "text": [
      "100%|██████████| 40000/40000 [00:04<00:00, 8993.25it/s]\n"
     ]
    },
    {
     "name": "stdout",
     "output_type": "stream",
     "text": [
      "\n",
      " std=0.08114758856241717 \n",
      "\n",
      "checking the validity of the sample...\n",
      "\n"
     ]
    },
    {
     "name": "stderr",
     "output_type": "stream",
     "text": [
      "100%|██████████| 40000/40000 [00:04<00:00, 8996.50it/s]\n"
     ]
    },
    {
     "name": "stdout",
     "output_type": "stream",
     "text": [
      "\n",
      " std=0.09311037621265206 \n",
      "\n",
      "checking the validity of the sample...\n",
      "\n"
     ]
    },
    {
     "name": "stderr",
     "output_type": "stream",
     "text": [
      "100%|██████████| 40000/40000 [00:04<00:00, 9001.69it/s]\n"
     ]
    },
    {
     "name": "stdout",
     "output_type": "stream",
     "text": [
      "\n",
      " std=0.09138589768227247 \n",
      "\n",
      "checking the validity of the sample...\n",
      "\n"
     ]
    },
    {
     "name": "stderr",
     "output_type": "stream",
     "text": [
      "100%|██████████| 40000/40000 [00:04<00:00, 9007.10it/s]\n"
     ]
    },
    {
     "name": "stdout",
     "output_type": "stream",
     "text": [
      "\n",
      " std=0.10791381275974155 \n",
      "\n",
      "checking the validity of the sample...\n",
      "\n"
     ]
    },
    {
     "name": "stderr",
     "output_type": "stream",
     "text": [
      "100%|██████████| 40000/40000 [00:04<00:00, 9002.19it/s]\n"
     ]
    },
    {
     "name": "stdout",
     "output_type": "stream",
     "text": [
      "\n",
      " std=0.07886954791868063 \n",
      "\n",
      "repeated the burn in phase for 5 times \n",
      "\n",
      "starting k=0.25\n",
      "\n",
      "recording...\n",
      "\n"
     ]
    },
    {
     "name": "stderr",
     "output_type": "stream",
     "text": [
      "100%|██████████| 100000/100000 [00:10<00:00, 9389.57it/s]\n"
     ]
    },
    {
     "name": "stdout",
     "output_type": "stream",
     "text": [
      "\n",
      " I saved k=0.25\n",
      "no configuration found for k = 0.255\n",
      "\n",
      "burn in...\n",
      "\n",
      "checking the validity of the sample...\n",
      "\n"
     ]
    },
    {
     "name": "stderr",
     "output_type": "stream",
     "text": [
      "100%|██████████| 40000/40000 [00:04<00:00, 8963.56it/s]\n"
     ]
    },
    {
     "name": "stdout",
     "output_type": "stream",
     "text": [
      "\n",
      " std=0.12096851278857507 \n",
      "\n",
      "checking the validity of the sample...\n",
      "\n"
     ]
    },
    {
     "name": "stderr",
     "output_type": "stream",
     "text": [
      "100%|██████████| 40000/40000 [00:04<00:00, 8992.04it/s]\n"
     ]
    },
    {
     "name": "stdout",
     "output_type": "stream",
     "text": [
      "\n",
      " std=0.23465083809878343 \n",
      "\n",
      "checking the validity of the sample...\n",
      "\n"
     ]
    },
    {
     "name": "stderr",
     "output_type": "stream",
     "text": [
      "100%|██████████| 40000/40000 [00:04<00:00, 8945.75it/s]\n"
     ]
    },
    {
     "name": "stdout",
     "output_type": "stream",
     "text": [
      "\n",
      " std=0.23325703831617298 \n",
      "\n",
      "checking the validity of the sample...\n",
      "\n"
     ]
    },
    {
     "name": "stderr",
     "output_type": "stream",
     "text": [
      "100%|██████████| 40000/40000 [00:04<00:00, 8877.41it/s]\n"
     ]
    },
    {
     "name": "stdout",
     "output_type": "stream",
     "text": [
      "\n",
      " std=0.28705840927567006 \n",
      "\n",
      "checking the validity of the sample...\n",
      "\n"
     ]
    },
    {
     "name": "stderr",
     "output_type": "stream",
     "text": [
      "100%|██████████| 40000/40000 [00:04<00:00, 8904.44it/s]\n"
     ]
    },
    {
     "name": "stdout",
     "output_type": "stream",
     "text": [
      "\n",
      " std=0.0917350452080992 \n",
      "\n",
      "checking the validity of the sample...\n",
      "\n"
     ]
    },
    {
     "name": "stderr",
     "output_type": "stream",
     "text": [
      "100%|██████████| 40000/40000 [00:04<00:00, 8910.90it/s]\n"
     ]
    },
    {
     "name": "stdout",
     "output_type": "stream",
     "text": [
      "\n",
      " std=0.1981975342429584 \n",
      "\n",
      "checking the validity of the sample...\n",
      "\n"
     ]
    },
    {
     "name": "stderr",
     "output_type": "stream",
     "text": [
      "100%|██████████| 40000/40000 [00:04<00:00, 8896.37it/s]\n"
     ]
    },
    {
     "name": "stdout",
     "output_type": "stream",
     "text": [
      "\n",
      " std=0.11504795175446411 \n",
      "\n",
      "checking the validity of the sample...\n",
      "\n"
     ]
    },
    {
     "name": "stderr",
     "output_type": "stream",
     "text": [
      "100%|██████████| 40000/40000 [00:04<00:00, 8984.36it/s]\n"
     ]
    },
    {
     "name": "stdout",
     "output_type": "stream",
     "text": [
      "\n",
      " std=0.15860576521842293 \n",
      "\n",
      "checking the validity of the sample...\n",
      "\n"
     ]
    },
    {
     "name": "stderr",
     "output_type": "stream",
     "text": [
      "100%|██████████| 40000/40000 [00:04<00:00, 8990.76it/s]\n"
     ]
    },
    {
     "name": "stdout",
     "output_type": "stream",
     "text": [
      "\n",
      " std=0.22856292205288828 \n",
      "\n",
      "checking the validity of the sample...\n",
      "\n"
     ]
    },
    {
     "name": "stderr",
     "output_type": "stream",
     "text": [
      "100%|██████████| 40000/40000 [00:04<00:00, 8958.70it/s]\n"
     ]
    },
    {
     "name": "stdout",
     "output_type": "stream",
     "text": [
      "\n",
      " std=0.11624613307276153 \n",
      "\n",
      "repeated the burn in phase for 10 times \n",
      "\n",
      "starting k=0.255\n",
      "\n",
      "recording...\n",
      "\n"
     ]
    },
    {
     "name": "stderr",
     "output_type": "stream",
     "text": [
      "100%|██████████| 100000/100000 [00:10<00:00, 9445.06it/s]\n"
     ]
    },
    {
     "name": "stdout",
     "output_type": "stream",
     "text": [
      "\n",
      " I saved k=0.255\n",
      "no configuration found for k = 0.26\n",
      "\n",
      "burn in...\n",
      "\n",
      "checking the validity of the sample...\n",
      "\n"
     ]
    },
    {
     "name": "stderr",
     "output_type": "stream",
     "text": [
      "100%|██████████| 40000/40000 [00:04<00:00, 8973.61it/s]\n"
     ]
    },
    {
     "name": "stdout",
     "output_type": "stream",
     "text": [
      "\n",
      " std=0.37972240425935855 \n",
      "\n",
      "checking the validity of the sample...\n",
      "\n"
     ]
    },
    {
     "name": "stderr",
     "output_type": "stream",
     "text": [
      "100%|██████████| 40000/40000 [00:04<00:00, 8938.53it/s]\n"
     ]
    },
    {
     "name": "stdout",
     "output_type": "stream",
     "text": [
      "\n",
      " std=0.069220415829706 \n",
      "\n",
      "repeated the burn in phase for 2 times \n",
      "\n",
      "starting k=0.26\n",
      "\n",
      "recording...\n",
      "\n"
     ]
    },
    {
     "name": "stderr",
     "output_type": "stream",
     "text": [
      "100%|██████████| 100000/100000 [00:10<00:00, 9443.98it/s]\n"
     ]
    },
    {
     "name": "stdout",
     "output_type": "stream",
     "text": [
      "\n",
      " I saved k=0.26\n",
      "no configuration found for k = 0.265\n",
      "\n",
      "burn in...\n",
      "\n",
      "checking the validity of the sample...\n",
      "\n"
     ]
    },
    {
     "name": "stderr",
     "output_type": "stream",
     "text": [
      "100%|██████████| 40000/40000 [00:04<00:00, 8900.41it/s]\n"
     ]
    },
    {
     "name": "stdout",
     "output_type": "stream",
     "text": [
      "\n",
      " std=0.3866461362677411 \n",
      "\n",
      "checking the validity of the sample...\n",
      "\n"
     ]
    },
    {
     "name": "stderr",
     "output_type": "stream",
     "text": [
      "100%|██████████| 40000/40000 [00:04<00:00, 8924.02it/s]\n"
     ]
    },
    {
     "name": "stdout",
     "output_type": "stream",
     "text": [
      "\n",
      " std=0.042488928610480974 \n",
      "\n",
      "repeated the burn in phase for 2 times \n",
      "\n",
      "starting k=0.265\n",
      "\n",
      "recording...\n",
      "\n"
     ]
    },
    {
     "name": "stderr",
     "output_type": "stream",
     "text": [
      "100%|██████████| 100000/100000 [00:10<00:00, 9385.87it/s]\n"
     ]
    },
    {
     "name": "stdout",
     "output_type": "stream",
     "text": [
      "\n",
      " I saved k=0.265\n",
      "no configuration found for k = 0.27\n",
      "\n",
      "burn in...\n",
      "\n",
      "checking the validity of the sample...\n",
      "\n"
     ]
    },
    {
     "name": "stderr",
     "output_type": "stream",
     "text": [
      "100%|██████████| 40000/40000 [00:04<00:00, 8875.19it/s]\n"
     ]
    },
    {
     "name": "stdout",
     "output_type": "stream",
     "text": [
      "\n",
      " std=0.6005521523671762 \n",
      "\n",
      "checking the validity of the sample...\n",
      "\n"
     ]
    },
    {
     "name": "stderr",
     "output_type": "stream",
     "text": [
      "100%|██████████| 40000/40000 [00:04<00:00, 8967.27it/s]\n"
     ]
    },
    {
     "name": "stdout",
     "output_type": "stream",
     "text": [
      "\n",
      " std=0.02665691184646643 \n",
      "\n",
      "repeated the burn in phase for 2 times \n",
      "\n",
      "starting k=0.27\n",
      "\n",
      "recording...\n",
      "\n"
     ]
    },
    {
     "name": "stderr",
     "output_type": "stream",
     "text": [
      "100%|██████████| 100000/100000 [00:10<00:00, 9440.22it/s]\n"
     ]
    },
    {
     "name": "stdout",
     "output_type": "stream",
     "text": [
      "\n",
      " I saved k=0.27\n",
      "no configuration found for k = 0.275\n",
      "\n",
      "burn in...\n",
      "\n",
      "checking the validity of the sample...\n",
      "\n"
     ]
    },
    {
     "name": "stderr",
     "output_type": "stream",
     "text": [
      "100%|██████████| 40000/40000 [00:04<00:00, 9005.73it/s]\n"
     ]
    },
    {
     "name": "stdout",
     "output_type": "stream",
     "text": [
      "\n",
      " std=0.4603286815213814 \n",
      "\n",
      "checking the validity of the sample...\n",
      "\n"
     ]
    },
    {
     "name": "stderr",
     "output_type": "stream",
     "text": [
      "100%|██████████| 40000/40000 [00:04<00:00, 8851.49it/s]\n"
     ]
    },
    {
     "name": "stdout",
     "output_type": "stream",
     "text": [
      "\n",
      " std=0.029683451186393192 \n",
      "\n",
      "repeated the burn in phase for 2 times \n",
      "\n",
      "starting k=0.275\n",
      "\n",
      "recording...\n",
      "\n"
     ]
    },
    {
     "name": "stderr",
     "output_type": "stream",
     "text": [
      "100%|██████████| 100000/100000 [00:10<00:00, 9414.09it/s]\n"
     ]
    },
    {
     "name": "stdout",
     "output_type": "stream",
     "text": [
      "\n",
      " I saved k=0.275\n",
      "no configuration found for k = 0.28\n",
      "\n",
      "burn in...\n",
      "\n",
      "checking the validity of the sample...\n",
      "\n"
     ]
    },
    {
     "name": "stderr",
     "output_type": "stream",
     "text": [
      "100%|██████████| 40000/40000 [00:04<00:00, 9022.62it/s]\n"
     ]
    },
    {
     "name": "stdout",
     "output_type": "stream",
     "text": [
      "\n",
      " std=0.6266667312568013 \n",
      "\n",
      "checking the validity of the sample...\n",
      "\n"
     ]
    },
    {
     "name": "stderr",
     "output_type": "stream",
     "text": [
      "100%|██████████| 40000/40000 [00:04<00:00, 9009.53it/s]\n"
     ]
    },
    {
     "name": "stdout",
     "output_type": "stream",
     "text": [
      "\n",
      " std=0.020906484582031214 \n",
      "\n",
      "repeated the burn in phase for 2 times \n",
      "\n",
      "starting k=0.28\n",
      "\n",
      "recording...\n",
      "\n"
     ]
    },
    {
     "name": "stderr",
     "output_type": "stream",
     "text": [
      "100%|██████████| 100000/100000 [00:10<00:00, 9274.06it/s]\n"
     ]
    },
    {
     "name": "stdout",
     "output_type": "stream",
     "text": [
      "\n",
      " I saved k=0.28\n",
      "no configuration found for k = 0.285\n",
      "\n",
      "burn in...\n",
      "\n",
      "checking the validity of the sample...\n",
      "\n"
     ]
    },
    {
     "name": "stderr",
     "output_type": "stream",
     "text": [
      "100%|██████████| 40000/40000 [00:04<00:00, 8883.19it/s]\n"
     ]
    },
    {
     "name": "stdout",
     "output_type": "stream",
     "text": [
      "\n",
      " std=0.5958955653518139 \n",
      "\n",
      "checking the validity of the sample...\n",
      "\n"
     ]
    },
    {
     "name": "stderr",
     "output_type": "stream",
     "text": [
      "100%|██████████| 40000/40000 [00:04<00:00, 8942.07it/s]\n"
     ]
    },
    {
     "name": "stdout",
     "output_type": "stream",
     "text": [
      "\n",
      " std=0.019783023019421052 \n",
      "\n",
      "repeated the burn in phase for 2 times \n",
      "\n",
      "starting k=0.285\n",
      "\n",
      "recording...\n",
      "\n"
     ]
    },
    {
     "name": "stderr",
     "output_type": "stream",
     "text": [
      "100%|██████████| 100000/100000 [00:10<00:00, 9194.14it/s]\n"
     ]
    },
    {
     "name": "stdout",
     "output_type": "stream",
     "text": [
      "\n",
      " I saved k=0.285\n",
      "no configuration found for k = 0.29\n",
      "\n",
      "burn in...\n",
      "\n",
      "checking the validity of the sample...\n",
      "\n"
     ]
    },
    {
     "name": "stderr",
     "output_type": "stream",
     "text": [
      "100%|██████████| 40000/40000 [00:04<00:00, 8868.58it/s]\n"
     ]
    },
    {
     "name": "stdout",
     "output_type": "stream",
     "text": [
      "\n",
      " std=0.6618523387787636 \n",
      "\n",
      "checking the validity of the sample...\n",
      "\n"
     ]
    },
    {
     "name": "stderr",
     "output_type": "stream",
     "text": [
      "100%|██████████| 40000/40000 [00:04<00:00, 8697.42it/s]\n"
     ]
    },
    {
     "name": "stdout",
     "output_type": "stream",
     "text": [
      "\n",
      " std=0.015383222122059245 \n",
      "\n",
      "repeated the burn in phase for 2 times \n",
      "\n",
      "starting k=0.29\n",
      "\n",
      "recording...\n",
      "\n"
     ]
    },
    {
     "name": "stderr",
     "output_type": "stream",
     "text": [
      "100%|██████████| 100000/100000 [00:10<00:00, 9150.34it/s]\n"
     ]
    },
    {
     "name": "stdout",
     "output_type": "stream",
     "text": [
      "\n",
      " I saved k=0.29\n",
      "no configuration found for k = 0.295\n",
      "\n",
      "burn in...\n",
      "\n",
      "checking the validity of the sample...\n",
      "\n"
     ]
    },
    {
     "name": "stderr",
     "output_type": "stream",
     "text": [
      "100%|██████████| 40000/40000 [00:04<00:00, 8942.65it/s]\n"
     ]
    },
    {
     "name": "stdout",
     "output_type": "stream",
     "text": [
      "\n",
      " std=0.7676827186025 \n",
      "\n",
      "checking the validity of the sample...\n",
      "\n"
     ]
    },
    {
     "name": "stderr",
     "output_type": "stream",
     "text": [
      "100%|██████████| 40000/40000 [00:04<00:00, 8998.36it/s]\n"
     ]
    },
    {
     "name": "stdout",
     "output_type": "stream",
     "text": [
      "\n",
      " std=0.013088817671138914 \n",
      "\n",
      "repeated the burn in phase for 2 times \n",
      "\n",
      "starting k=0.295\n",
      "\n",
      "recording...\n",
      "\n"
     ]
    },
    {
     "name": "stderr",
     "output_type": "stream",
     "text": [
      "100%|██████████| 100000/100000 [00:10<00:00, 9265.41it/s]"
     ]
    },
    {
     "name": "stdout",
     "output_type": "stream",
     "text": [
      "\n",
      " I saved k=0.295\n"
     ]
    },
    {
     "name": "stderr",
     "output_type": "stream",
     "text": [
      "\n"
     ]
    }
   ],
   "source": [
    "for k in np.arange(0.2,0.3,np.round(0.1/20,3)):\n",
    "    sample_from_k(k, 40000, 0.08, testburn=True)"
   ]
  },
  {
   "cell_type": "markdown",
   "metadata": {
    "id": "0lxgHoTGKqGC"
   },
   "source": [
    "# Getting masses from the exponential decay of the 2-pt function"
   ]
  },
  {
   "cell_type": "code",
   "execution_count": 8,
   "metadata": {
    "id": "TUFspdc-LmNX"
   },
   "outputs": [],
   "source": [
    "def get2pc(cfgsp,p1,p2):\n",
    "    g2ptot,g1p1,g1p2= [jackknife(cfgsp[:,p1[0],p1[1]]*cfgsp[:,p2[0],p2[1]]),jackknife(cfgsp[:,p1[0],p1[1]]),jackknife(cfgsp[:,p2[0],p2[1]])]\n",
    "    g2ptot=ufloat(g2ptot[0],g2ptot[1])\n",
    "    g1p1=ufloat(g1p1[0],g1p1[1])\n",
    "    g1p2=ufloat(g1p2[0],g1p2[1])\n",
    "    return abs(g2ptot-(g1p1*g1p2))"
   ]
  },
  {
   "cell_type": "code",
   "execution_count": 9,
   "metadata": {
    "id": "UmK-yIWtTy8Z"
   },
   "outputs": [],
   "source": [
    "def exptofit(x, a, b, c):\n",
    "    return (a* np.exp(-b *x))+c"
   ]
  },
  {
   "cell_type": "code",
   "execution_count": 10,
   "metadata": {
    "colab": {
     "base_uri": "https://localhost:8080/"
    },
    "id": "ZNepyv2b2EQC",
    "outputId": "86eed0ec-658b-4dc5-8bab-5571f756f864"
   },
   "outputs": [
    {
     "name": "stdout",
     "output_type": "stream",
     "text": [
      "1\n",
      "2\n",
      "3\n",
      "4\n",
      "5\n",
      "6\n",
      "7\n",
      "8\n",
      "9\n",
      "10\n",
      "11\n",
      "12\n",
      "13\n",
      "14\n",
      "15\n",
      "16\n",
      "17\n",
      "18\n",
      "19\n",
      "20\n"
     ]
    }
   ],
   "source": [
    "kvalues=load_k_values(os.getcwd()+'/tensors.h5')\n",
    "fitvecsmasses=[]\n",
    "i=0\n",
    "for kval in kvalues:\n",
    "    i+=1\n",
    "    print(i)\n",
    "    cgfstemp=load_tensor_for_k(os.getcwd()+'/tensors.h5', kval)\n",
    "    mean00=jackknife(cgfstemp[:,0,0])\n",
    "    disc_piece=[jackknife(cgfstemp[:,j,0]) for j in range(20)]\n",
    "    corrvalstot=[jackknife(cgfstemp[:,0,0]*cgfstemp[:,j,0]) for j in range(20)]\n",
    "    corrvals=np.array(corrvalstot)-np.transpose(np.array((np.transpose(np.array(disc_piece))[0]*mean00[0],np.transpose(np.array(disc_piece))[1]*mean00[1])))\n",
    "    corrvalsn=np.array(corrvals)[:,0]\n",
    "    corrvalss=np.array(corrvals)[:,1]\n",
    "    popt, pcov = curve_fit(exptofit, range(20), corrvalsn, p0=[corrvalsn[0],0.9,0], sigma=corrvalss)\n",
    "    fitvecsmasses.append([kval,corrvals,popt])"
   ]
  },
  {
   "cell_type": "code",
   "execution_count": 11,
   "metadata": {
    "id": "a1s3sM9-Yu2u"
   },
   "outputs": [],
   "source": [
    "def from_k_to_plot(i):\n",
    "    corrvalsn=np.array(fitvecsmasses[i][1][:,0])\n",
    "    corrvalss=np.array(fitvecsmasses[i][1][:,1])\n",
    "    [afit, bfit, cfit], pcov = curve_fit(exptofit, range(20), corrvalsn, p0=[corrvalsn[0],0.9,0], sigma=corrvalss)\n",
    "    plt.errorbar(range(20),corrvalsn,yerr=corrvalss)\n",
    "    plt.plot(range(20),exptofit(range(20),afit,bfit,cfit))\n",
    "    return [bfit,pcov[1,1]]"
   ]
  },
  {
   "cell_type": "code",
   "execution_count": 12,
   "metadata": {
    "colab": {
     "base_uri": "https://localhost:8080/",
     "height": 430
    },
    "id": "ypdbioHavZSH",
    "outputId": "d229418d-4b02-4290-e5f0-96821108c741"
   },
   "outputs": [
    {
     "data": {
      "image/png": "[encoded data removed]",
      "text/plain": [
       "<Figure size 432x288 with 1 Axes>"
      ]
     },
     "metadata": {},
     "output_type": "display_data"
    }
   ],
   "source": [
    "massesvec=[]\n",
    "masserrvec=[]\n",
    "xvec=[]\n",
    "for i in range(len(fitvecsmasses)):\n",
    "    xvec.append(i)\n",
    "    [mass,masserr]=from_k_to_plot(i)\n",
    "    massesvec.append(mass)\n",
    "    masserrvec.append(masserr)"
   ]
  },
  {
   "cell_type": "code",
   "execution_count": 13,
   "metadata": {
    "colab": {
     "base_uri": "https://localhost:8080/",
     "height": 448
    },
    "id": "HEyQU8ccxMEV",
    "outputId": "e3e906bc-9533-4627-d257-8ad6e1e7f267"
   },
   "outputs": [
    {
     "data": {
      "text/plain": [
       "<ErrorbarContainer object of 3 artists>"
      ]
     },
     "execution_count": 13,
     "metadata": {},
     "output_type": "execute_result"
    },
    {
     "data": {
      "image/png": "[encoded data removed]",
      "text/plain": [
       "<Figure size 432x288 with 1 Axes>"
      ]
     },
     "metadata": {},
     "output_type": "display_data"
    }
   ],
   "source": [
    "plt.errorbar(xvec,np.array(massesvec),yerr=masserrvec)"
   ]
  },
  {
   "cell_type": "markdown",
   "metadata": {
    "id": "97IkPZrxfSzA"
   },
   "source": [
    "# Getting masses from the 2-pt function in momentum space"
   ]
  },
  {
   "cell_type": "code",
   "execution_count": 14,
   "metadata": {
    "id": "OF18KcbXfn2m"
   },
   "outputs": [],
   "source": [
    "def get_2pc_mom(cfgsp,j):\n",
    "    mean1=jackknife(cfgsp[:,0,j])\n",
    "    mean2=jackknife(cfgsp[:,0,-j])\n",
    "    errprod=np.sqrt(((mean1[0])**2)*((mean2[1])**2)+((mean2[0])**2)*((mean1[1])**2))\n",
    "    totpart=jackknife(cfgsp[:,0,j]*cfgsp[:,0,-j])\n",
    "    return [abs(totpart[0]-mean1[0]*mean2[0]),abs(np.sqrt(errprod**2+totpart[1]**2))]"
   ]
  },
  {
   "cell_type": "code",
   "execution_count": 15,
   "metadata": {
    "id": "xyUygAbCjrkv"
   },
   "outputs": [],
   "source": [
    "def twoptfalloff(x, z, m2):\n",
    "    return z *(1/(((x*x)/m2)+1))"
   ]
  },
  {
   "cell_type": "code",
   "execution_count": 16,
   "metadata": {
    "colab": {
     "base_uri": "https://localhost:8080/"
    },
    "id": "HhsQ4W6AlOEb",
    "outputId": "2a56f229-0a2d-4e64-a9ca-90a9f6804c50"
   },
   "outputs": [
    {
     "name": "stdout",
     "output_type": "stream",
     "text": [
      "1\n",
      "2\n",
      "3\n",
      "4\n",
      "5\n",
      "6\n",
      "7\n",
      "8\n",
      "9\n",
      "10\n",
      "11\n",
      "12\n",
      "13\n",
      "14\n",
      "15\n",
      "16\n",
      "17\n",
      "18\n",
      "19\n",
      "20\n",
      "[30.24438842969394, 23.982589871041384, 21.95273659240974, 18.20095010499735, 14.316434815636356, 11.44779755232717, 13.317801419717622, 7.350922345505513, 6.384038660208696, 3.021839046150067, 1.2721690987360603, 0.42457735948255804, 4.510457483330157, 7.842642825443379, 13.977925040393696, 20.619255254875256, 27.706614245690407, 29.6926047638525, 28.393068783867406, 40.957277488263465]\n"
     ]
    },
    {
     "data": {
      "image/png": "[encoded data removed]",
      "text/plain": [
       "<Figure size 432x288 with 1 Axes>"
      ]
     },
     "metadata": {},
     "output_type": "display_data"
    }
   ],
   "source": [
    "kvalues=load_k_values(os.getcwd()+'/tensors.h5')\n",
    "fitvecsmasses=[]\n",
    "i=0\n",
    "for kval in kvalues:\n",
    "    i+=1\n",
    "    print(i)\n",
    "    cgfstemp=load_tensor_for_k(os.getcwd()+'/tensors.h5', kval)\n",
    "    cfgsp=np.fft.fftn(cgfstemp,axes=(1,2))\n",
    "    twopcmom=[get_2pc_mom(cfgsp,j)[0] for j in range(10)]\n",
    "    xarr=np.array(range(len(twopcmom)))\n",
    "    [zfit, m2fit], pcov = curve_fit(twoptfalloff, np.array(range(len(twopcmom))), twopcmom, p0=[twopcmom[0],10])\n",
    "    yarr=twoptfalloff(xarr, zfit, m2fit)\n",
    "    fitvecsmasses.append(m2fit)\n",
    "    plt.plot(xarr,twopcmom)\n",
    "    plt.plot(xarr,yarr)"
   ]
  },
  {
   "cell_type": "code",
   "execution_count": 17,
   "metadata": {
    "colab": {
     "base_uri": "https://localhost:8080/"
    },
    "id": "HhsQ4W6AlOEb",
    "outputId": "2a56f229-0a2d-4e64-a9ca-90a9f6804c50"
   },
   "outputs": [
    {
     "data": {
      "text/plain": [
       "[<matplotlib.lines.Line2D at 0x7f8f90c0dd30>]"
      ]
     },
     "execution_count": 17,
     "metadata": {},
     "output_type": "execute_result"
    },
    {
     "data": {
      "image/png": "[encoded data removed]",
      "text/plain": [
       "<Figure size 432x288 with 1 Axes>"
      ]
     },
     "metadata": {},
     "output_type": "display_data"
    }
   ],
   "source": [
    "plt.plot(kvalues,np.sqrt(np.array(fitvecsmasses)/32))"
   ]
  },
  {
   "cell_type": "code",
   "execution_count": 2,
   "metadata": {},
   "outputs": [
    {
     "name": "stdout",
     "output_type": "stream",
     "text": [
      "a\n"
     ]
    }
   ],
   "source": [
    "print(\"a\")"
   ]
  },
  {
   "cell_type": "code",
   "execution_count": null,
   "metadata": {},
   "outputs": [],
   "source": []
  }
 ],
 "metadata": {
  "colab": {
   "provenance": []
  },
  "kernelspec": {
   "display_name": "Python 3",
   "language": "python",
   "name": "python3"
  },
  "language_info": {
   "codemirror_mode": {
    "name": "ipython",
    "version": 3
   },
   "file_extension": ".py",
   "mimetype": "text/x-python",
   "name": "python",
   "nbconvert_exporter": "python",
   "pygments_lexer": "ipython3",
   "version": "3.9.5"
  }
 },
 "nbformat": 4,
 "nbformat_minor": 4
}
